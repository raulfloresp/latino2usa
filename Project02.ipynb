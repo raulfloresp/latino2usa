{
 "cells": [
  {
   "cell_type": "code",
   "execution_count": 3,
   "metadata": {},
   "outputs": [],
   "source": [
    "import pandas as pd\n",
    "import json"
   ]
  },
  {
   "cell_type": "code",
   "execution_count": 2,
   "metadata": {},
   "outputs": [
    {
     "name": "stdout",
     "output_type": "stream",
     "text": [
      "     names                                           metadata  \\\n",
      "0      940  {'id': 940, 'ethnicity': 'Caucasian', 'gender'...   \n",
      "1      941  {'id': 941, 'ethnicity': 'Caucasian/Midleaster...   \n",
      "2      943  {'id': 943, 'ethnicity': 'Caucasian', 'gender'...   \n",
      "3      944  {'id': 944, 'ethnicity': 'European', 'gender':...   \n",
      "4      945  {'id': 945, 'ethnicity': 'Caucasian', 'gender'...   \n",
      "..     ...                                                ...   \n",
      "148   1574  {'id': 1574, 'ethnicity': 'Caucasian', 'gender...   \n",
      "149   1576  {'id': 1576, 'ethnicity': 'Caucasian', 'gender...   \n",
      "150   1577  {'id': 1577, 'ethnicity': 'Caucasian', 'gender...   \n",
      "151   1581  {'id': 1581, 'ethnicity': 'Asian(American)', '...   \n",
      "152   1601  {'id': 1601, 'ethnicity': 'Caucasian', 'gender...   \n",
      "\n",
      "                                               samples  \n",
      "0    {'id': '940', 'otu_ids': [1167, 2859, 482, 226...  \n",
      "1    {'id': '941', 'otu_ids': [2722, 944, 2419, 253...  \n",
      "2    {'id': '943', 'otu_ids': [1795], 'sample_value...  \n",
      "3    {'id': '944', 'otu_ids': [922, 3555, 943, 1013...  \n",
      "4    {'id': '945', 'otu_ids': [944, 1795, 922, 2419...  \n",
      "..                                                 ...  \n",
      "148  {'id': '1574', 'otu_ids': [482, 909, 2419, 944...  \n",
      "149  {'id': '1576', 'otu_ids': [1929, 1770, 1926, 1...  \n",
      "150  {'id': '1577', 'otu_ids': [922, 1795, 151, 318...  \n",
      "151  {'id': '1581', 'otu_ids': [1795, 3312, 1399, 3...  \n",
      "152  {'id': '1601', 'otu_ids': [1929, 3030, 1795, 8...  \n",
      "\n",
      "[153 rows x 3 columns]\n"
     ]
    }
   ],
   "source": [
    "#Read JSON\n",
    "example = pd.read_json(\"samples.json\")\n",
    "print(example)"
   ]
  },
  {
   "cell_type": "code",
   "execution_count": 6,
   "metadata": {},
   "outputs": [
    {
     "data": {
      "text/html": [
       "<div>\n",
       "<style scoped>\n",
       "    .dataframe tbody tr th:only-of-type {\n",
       "        vertical-align: middle;\n",
       "    }\n",
       "\n",
       "    .dataframe tbody tr th {\n",
       "        vertical-align: top;\n",
       "    }\n",
       "\n",
       "    .dataframe thead th {\n",
       "        text-align: right;\n",
       "    }\n",
       "</style>\n",
       "<table border=\"1\" class=\"dataframe\">\n",
       "  <thead>\n",
       "    <tr style=\"text-align: right;\">\n",
       "      <th></th>\n",
       "      <th>names</th>\n",
       "      <th>metadata</th>\n",
       "      <th>samples</th>\n",
       "    </tr>\n",
       "  </thead>\n",
       "  <tbody>\n",
       "    <tr>\n",
       "      <th>0</th>\n",
       "      <td>940</td>\n",
       "      <td>{'id': 940, 'ethnicity': 'Caucasian', 'gender'...</td>\n",
       "      <td>{'id': '940', 'otu_ids': [1167, 2859, 482, 226...</td>\n",
       "    </tr>\n",
       "    <tr>\n",
       "      <th>1</th>\n",
       "      <td>941</td>\n",
       "      <td>{'id': 941, 'ethnicity': 'Caucasian/Midleaster...</td>\n",
       "      <td>{'id': '941', 'otu_ids': [2722, 944, 2419, 253...</td>\n",
       "    </tr>\n",
       "    <tr>\n",
       "      <th>2</th>\n",
       "      <td>943</td>\n",
       "      <td>{'id': 943, 'ethnicity': 'Caucasian', 'gender'...</td>\n",
       "      <td>{'id': '943', 'otu_ids': [1795], 'sample_value...</td>\n",
       "    </tr>\n",
       "    <tr>\n",
       "      <th>3</th>\n",
       "      <td>944</td>\n",
       "      <td>{'id': 944, 'ethnicity': 'European', 'gender':...</td>\n",
       "      <td>{'id': '944', 'otu_ids': [922, 3555, 943, 1013...</td>\n",
       "    </tr>\n",
       "    <tr>\n",
       "      <th>4</th>\n",
       "      <td>945</td>\n",
       "      <td>{'id': 945, 'ethnicity': 'Caucasian', 'gender'...</td>\n",
       "      <td>{'id': '945', 'otu_ids': [944, 1795, 922, 2419...</td>\n",
       "    </tr>\n",
       "    <tr>\n",
       "      <th>...</th>\n",
       "      <td>...</td>\n",
       "      <td>...</td>\n",
       "      <td>...</td>\n",
       "    </tr>\n",
       "    <tr>\n",
       "      <th>148</th>\n",
       "      <td>1574</td>\n",
       "      <td>{'id': 1574, 'ethnicity': 'Caucasian', 'gender...</td>\n",
       "      <td>{'id': '1574', 'otu_ids': [482, 909, 2419, 944...</td>\n",
       "    </tr>\n",
       "    <tr>\n",
       "      <th>149</th>\n",
       "      <td>1576</td>\n",
       "      <td>{'id': 1576, 'ethnicity': 'Caucasian', 'gender...</td>\n",
       "      <td>{'id': '1576', 'otu_ids': [1929, 1770, 1926, 1...</td>\n",
       "    </tr>\n",
       "    <tr>\n",
       "      <th>150</th>\n",
       "      <td>1577</td>\n",
       "      <td>{'id': 1577, 'ethnicity': 'Caucasian', 'gender...</td>\n",
       "      <td>{'id': '1577', 'otu_ids': [922, 1795, 151, 318...</td>\n",
       "    </tr>\n",
       "    <tr>\n",
       "      <th>151</th>\n",
       "      <td>1581</td>\n",
       "      <td>{'id': 1581, 'ethnicity': 'Asian(American)', '...</td>\n",
       "      <td>{'id': '1581', 'otu_ids': [1795, 3312, 1399, 3...</td>\n",
       "    </tr>\n",
       "    <tr>\n",
       "      <th>152</th>\n",
       "      <td>1601</td>\n",
       "      <td>{'id': 1601, 'ethnicity': 'Caucasian', 'gender...</td>\n",
       "      <td>{'id': '1601', 'otu_ids': [1929, 3030, 1795, 8...</td>\n",
       "    </tr>\n",
       "  </tbody>\n",
       "</table>\n",
       "<p>153 rows × 3 columns</p>\n",
       "</div>"
      ],
      "text/plain": [
       "     names                                           metadata  \\\n",
       "0      940  {'id': 940, 'ethnicity': 'Caucasian', 'gender'...   \n",
       "1      941  {'id': 941, 'ethnicity': 'Caucasian/Midleaster...   \n",
       "2      943  {'id': 943, 'ethnicity': 'Caucasian', 'gender'...   \n",
       "3      944  {'id': 944, 'ethnicity': 'European', 'gender':...   \n",
       "4      945  {'id': 945, 'ethnicity': 'Caucasian', 'gender'...   \n",
       "..     ...                                                ...   \n",
       "148   1574  {'id': 1574, 'ethnicity': 'Caucasian', 'gender...   \n",
       "149   1576  {'id': 1576, 'ethnicity': 'Caucasian', 'gender...   \n",
       "150   1577  {'id': 1577, 'ethnicity': 'Caucasian', 'gender...   \n",
       "151   1581  {'id': 1581, 'ethnicity': 'Asian(American)', '...   \n",
       "152   1601  {'id': 1601, 'ethnicity': 'Caucasian', 'gender...   \n",
       "\n",
       "                                               samples  \n",
       "0    {'id': '940', 'otu_ids': [1167, 2859, 482, 226...  \n",
       "1    {'id': '941', 'otu_ids': [2722, 944, 2419, 253...  \n",
       "2    {'id': '943', 'otu_ids': [1795], 'sample_value...  \n",
       "3    {'id': '944', 'otu_ids': [922, 3555, 943, 1013...  \n",
       "4    {'id': '945', 'otu_ids': [944, 1795, 922, 2419...  \n",
       "..                                                 ...  \n",
       "148  {'id': '1574', 'otu_ids': [482, 909, 2419, 944...  \n",
       "149  {'id': '1576', 'otu_ids': [1929, 1770, 1926, 1...  \n",
       "150  {'id': '1577', 'otu_ids': [922, 1795, 151, 318...  \n",
       "151  {'id': '1581', 'otu_ids': [1795, 3312, 1399, 3...  \n",
       "152  {'id': '1601', 'otu_ids': [1929, 3030, 1795, 8...  \n",
       "\n",
       "[153 rows x 3 columns]"
      ]
     },
     "execution_count": 6,
     "metadata": {},
     "output_type": "execute_result"
    }
   ],
   "source": [
    "example_df = pd.DataFrame(example)\n",
    "example_df"
   ]
  },
  {
   "cell_type": "code",
   "execution_count": 9,
   "metadata": {},
   "outputs": [],
   "source": [
    "educational_degree_name = ['TotalEducation','School','HighSchool','College','Bachelor','Graduate']\n",
    "age_name = ['TotalAge','age_5','age_18','age_25','age_35','age_45','age_55','age_60','age_65','age_75','age_75more']\n",
    "income_name = ['TotalIncome','NoIncome','Income','inc_10000','inc_15000','inc_25000','inc_35000','inc_50000',\n",
    "               'inc_65000','inc_75000','inc_75000more']\n",
    "sex_name = ['TotalSex','Male','Female']\n",
    "civil_stats_name = ['TotalCivil','2010','NotCitizen2010','2010Citizen','2000','NotCitizen2000','2000Citizen',\n",
    "                   '1990','NotCitizen1990','1990Citizen','lower1990','lower1990NotCitizen','lower1990Citizen']"
   ]
  },
  {
   "cell_type": "code",
   "execution_count": 4,
   "metadata": {},
   "outputs": [],
   "source": [
    "values_dict = {'educational_degree_name': ['TotalEducation','School','HighSchool','College','Bachelor','Graduate'], \n",
    "            'age_name': ['TotalAge','age_5','age_18','age_25','age_35','age_45','age_55','age_60','age_65','age_75','age_75more'],\n",
    "            'income_name': ['TotalIncome','NoIncome','Income','inc_10000','inc_15000','inc_25000','inc_35000',\n",
    "            'inc_50000','inc_65000','inc_75000','inc_75000more'], 'sex_name': ['TotalSex','Male','Female'], \n",
    "             'civil_stats_name': ['TotalCivil','2010','NotCitizen2010','2010Citizen','2000','NotCitizen2000','2000Citizen',\n",
    "                   '1990','NotCitizen1990','1990Citizen','lower1990','lower1990NotCitizen','lower1990Citizen']}"
   ]
  },
  {
   "cell_type": "code",
   "execution_count": 6,
   "metadata": {},
   "outputs": [],
   "source": [
    "# Create json inputs\n",
    "with open('assets/data/inputs.json', 'w') as fp:\n",
    "    json.dump(values_dict, fp)"
   ]
  },
  {
   "cell_type": "code",
   "execution_count": null,
   "metadata": {},
   "outputs": [],
   "source": []
  },
  {
   "cell_type": "code",
   "execution_count": null,
   "metadata": {},
   "outputs": [],
   "source": []
  }
 ],
 "metadata": {
  "kernelspec": {
   "display_name": "Python [conda env:PythonData] *",
   "language": "python",
   "name": "conda-env-PythonData-py"
  },
  "language_info": {
   "codemirror_mode": {
    "name": "ipython",
    "version": 3
   },
   "file_extension": ".py",
   "mimetype": "text/x-python",
   "name": "python",
   "nbconvert_exporter": "python",
   "pygments_lexer": "ipython3",
   "version": "3.8.2"
  }
 },
 "nbformat": 4,
 "nbformat_minor": 4
}
